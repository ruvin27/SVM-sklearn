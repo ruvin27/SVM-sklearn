{
 "cells": [
  {
   "cell_type": "code",
   "execution_count": 1,
   "metadata": {},
   "outputs": [],
   "source": [
    "import sklearn \r\n",
    "from sklearn import svm\r\n",
    "from sklearn import datasets, metrics\r\n",
    "\r\n",
    "\r\n",
    "cancer = datasets.load_breast_cancer()\r\n",
    "\r\n",
    "x= cancer.data\r\n",
    "y = cancer.target\r\n",
    "\r\n"
   ]
  },
  {
   "cell_type": "code",
   "execution_count": 2,
   "metadata": {},
   "outputs": [
    {
     "name": "stdout",
     "output_type": "stream",
     "text": [
      "0.9736842105263158\n"
     ]
    }
   ],
   "source": [
    "x_train, x_test, y_train, y_test = sklearn.model_selection.train_test_split(x,y, test_size=0.2)\r\n",
    "\r\n",
    "clf = svm.SVC(kernel=\"linear\")\r\n",
    "clf.fit(x_train, y_train)\r\n",
    "\r\n",
    "y_pred = clf.predict(x_test)\r\n",
    "acc = metrics.accuracy_score(y_test,y_pred)\r\n",
    "print(acc)"
   ]
  }
 ],
 "metadata": {
  "kernelspec": {
   "display_name": "Python 3.8.10 64-bit (windows store)",
   "name": "python3810jvsc74a57bd0fb59372ac9b5c5145a5326e214009aa7a553ec318dd5a7ee566848f8c7b544bc"
  },
  "language_info": {
   "codemirror_mode": {
    "name": "ipython",
    "version": 3
   },
   "file_extension": ".py",
   "mimetype": "text/x-python",
   "name": "python",
   "nbconvert_exporter": "python",
   "pygments_lexer": "ipython3",
   "version": "3.8.10"
  },
  "metadata": {
   "interpreter": {
    "hash": "fb59372ac9b5c5145a5326e214009aa7a553ec318dd5a7ee566848f8c7b544bc"
   }
  },
  "orig_nbformat": 2
 },
 "nbformat": 4,
 "nbformat_minor": 2
}